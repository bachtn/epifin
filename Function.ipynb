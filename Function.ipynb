{
 "cells": [
  {
   "cell_type": "code",
   "execution_count": 16,
   "metadata": {},
   "outputs": [
    {
     "name": "stderr",
     "output_type": "stream",
     "text": [
      "/usr/lib/python3/dist-packages/urllib3/connectionpool.py:794: InsecureRequestWarning: Unverified HTTPS request is being made. Adding certificate verification is strongly advised. See: https://urllib3.readthedocs.org/en/latest/security.html\n",
      "  InsecureRequestWarning)\n"
     ]
    },
    {
     "data": {
      "text/plain": [
       "[{'ask': 83.82,\n",
       "  'bid': 83.76,\n",
       "  'close': 83.77,\n",
       "  'date': '2012-06-29',\n",
       "  'feed_source': 3.0,\n",
       "  'gross': 83.77,\n",
       "  'high': 85.06,\n",
       "  'low': 82.2,\n",
       "  'nav': 83.77,\n",
       "  'open': 82.21,\n",
       "  'pl': 2.4299999999999926,\n",
       "  'return': 0.02987460044258658,\n",
       "  'volume': 788034.0}]"
      ]
     },
     "execution_count": 16,
     "metadata": {},
     "output_type": "execute_result"
    }
   ],
   "source": [
    "import requests\n",
    "import json\n",
    "import urllib3\n",
    "import array\n",
    "urllib3.disable_warnings()\n",
    "\n",
    "user = 'epita_user_4'\n",
    "pwd = 'dolphin21903'\n",
    "server_url = 'https://dolphin.jump-technology.com:3389/api/v1'\n",
    "session = requests.Session()\n",
    "session.auth = (user, pwd)\n",
    "\n",
    "portfolio_value = 10000000 #Cf dernier mail de Faouzi de JUMP\n",
    "quantities = [] #return value\n",
    "asset_idx = 3\n",
    "request = '/asset/' + str(asset_idx) + '/quote?start_date=2012-06-29&end_date=2012-06-30'\n",
    "\n",
    "url = server_url + request\n",
    "response = session.get(url, verify=False)\n",
    "\n",
    "data = json.loads(response.text)\n",
    "data"
   ]
  },
  {
   "cell_type": "code",
   "execution_count": 17,
   "metadata": {},
   "outputs": [
    {
     "name": "stdout",
     "output_type": "stream",
     "text": [
      "83.77\n"
     ]
    }
   ],
   "source": [
    "unit_value = (data[0]['close'])\n",
    "print (unit_value)"
   ]
  },
  {
   "cell_type": "code",
   "execution_count": 18,
   "metadata": {},
   "outputs": [],
   "source": [
    "id_list = [1, 3, 4, 5, 6, 7, 8, 9, 10, 11, 12, 13, 14, 15, 16, 17, 18, 19, 20, 21] #Asset number 2 doesnt exist\n",
    "weight_list = array.array('f', [0.05]) * 20\n"
   ]
  },
  {
   "cell_type": "code",
   "execution_count": 19,
   "metadata": {},
   "outputs": [
    {
     "name": "stderr",
     "output_type": "stream",
     "text": [
      "/usr/lib/python3/dist-packages/urllib3/connectionpool.py:794: InsecureRequestWarning: Unverified HTTPS request is being made. Adding certificate verification is strongly advised. See: https://urllib3.readthedocs.org/en/latest/security.html\n",
      "  InsecureRequestWarning)\n"
     ]
    }
   ],
   "source": [
    "for i in range(len(id_list)):\n",
    "    r = '/asset/' + str(id_list[i]) + '/quote?start_date=2012-06-29&end_date=2012-06-30'\n",
    "    url = server_url + r\n",
    "    response = session.get(url, verify=False)\n",
    "    data = json.loads(response.text)\n",
    "    \n",
    "    unit_value = (data[0]['close'])\n",
    "    quantity = int(weight_list[0] * (portfolio_value/unit_value))\n",
    "    quantities.append(quantity)\n"
   ]
  },
  {
   "cell_type": "code",
   "execution_count": 20,
   "metadata": {},
   "outputs": [
    {
     "name": "stdout",
     "output_type": "stream",
     "text": [
      "40485\n",
      "5968\n",
      "14156\n",
      "239\n",
      "8782\n",
      "57776\n",
      "14084\n",
      "23584\n",
      "8369\n",
      "27159\n",
      "4739\n",
      "26659\n",
      "28490\n",
      "13927\n",
      "15446\n",
      "5956\n",
      "8181\n",
      "48192\n",
      "14590\n",
      "5215\n"
     ]
    }
   ],
   "source": [
    "for q in quantities:\n",
    "    print (q)"
   ]
  },
  {
   "cell_type": "code",
   "execution_count": null,
   "metadata": {},
   "outputs": [],
   "source": []
  },
  {
   "cell_type": "code",
   "execution_count": null,
   "metadata": {},
   "outputs": [],
   "source": []
  }
 ],
 "metadata": {
  "kernelspec": {
   "display_name": "Python 3",
   "language": "python",
   "name": "python3"
  },
  "language_info": {
   "codemirror_mode": {
    "name": "ipython",
    "version": 3
   },
   "file_extension": ".py",
   "mimetype": "text/x-python",
   "name": "python",
   "nbconvert_exporter": "python",
   "pygments_lexer": "ipython3",
   "version": "3.5.2"
  }
 },
 "nbformat": 4,
 "nbformat_minor": 2
}
