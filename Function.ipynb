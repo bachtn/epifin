{
 "cells": [
  {
   "cell_type": "code",
   "execution_count": null,
   "metadata": {},
   "outputs": [],
   "source": [
    "import requests\n",
    "import json\n",
    "import urllib3\n",
    "import array\n",
    "urllib3.disable_warnings()\n",
    "\n",
    "user = 'epita_user_4'\n",
    "pwd = 'dolphin21903'\n",
    "server_url = 'https://dolphin.jump-technology.com:3389/api/v1'\n",
    "session = requests.Session()\n",
    "session.auth = (user, pwd)\n",
    "\n",
    "portfolio_value = 10000000 #Cf dernier mail de Faouzi de JUMP\n",
    "quantities = [] #return value\n",
    "asset_idx = 1\n",
    "request = '/asset/' + str(asset_idx) + '/quote?start_date=2012-01-02&end_date=2012-01-03'\n",
    "\n",
    "url = server_url + request\n",
    "response = session.get(url, verify=False)\n",
    "\n",
    "data = json.loads(response.text)\n",
    "data"
   ]
  },
  {
   "cell_type": "code",
   "execution_count": null,
   "metadata": {},
   "outputs": [],
   "source": [
    "unit_value = (data[0]['close'])\n",
    "print (unit_value)"
   ]
  },
  {
   "cell_type": "code",
   "execution_count": null,
   "metadata": {},
   "outputs": [],
   "source": [
    "id_list = [1, 3, 4, 5, 6, 7, 8, 9, 10, 11, 12, 13, 14, 15, 16, 17, 18, 19, 20, 21] #Asset number 2 doesnt exist\n",
    "weight_list = array.array('f', [0.5]) * 20\n"
   ]
  },
  {
   "cell_type": "code",
   "execution_count": null,
   "metadata": {},
   "outputs": [],
   "source": [
    "for i in range(len(id_list)):\n",
    "    r = '/asset/' + str(id_list[i]) + '/quote?start_date=2012-01-02&end_date=2012-01-03'\n",
    "    url = server_url + r\n",
    "    response = session.get(url, verify=False)\n",
    "    data = json.loads(response.text)\n",
    "    \n",
    "    unit_value = (data[0]['close'])\n",
    "    quantity = weight_list[0] * (portfolio_value/unit_value)\n",
    "    quantities.append(quantity)\n"
   ]
  },
  {
   "cell_type": "code",
   "execution_count": null,
   "metadata": {},
   "outputs": [],
   "source": [
    "for q in quantities:\n",
    "    print (q)"
   ]
  },
  {
   "cell_type": "code",
   "execution_count": null,
   "metadata": {},
   "outputs": [],
   "source": []
  },
  {
   "cell_type": "code",
   "execution_count": null,
   "metadata": {},
   "outputs": [],
   "source": []
  }
 ],
 "metadata": {
  "kernelspec": {
   "display_name": "Python 3",
   "language": "python",
   "name": "python3"
  },
  "language_info": {
   "codemirror_mode": {
    "name": "ipython",
    "version": 3
   },
   "file_extension": ".py",
   "mimetype": "text/x-python",
   "name": "python",
   "nbconvert_exporter": "python",
   "pygments_lexer": "ipython3",
   "version": "3.5.2"
  }
 },
 "nbformat": 4,
 "nbformat_minor": 2
}
