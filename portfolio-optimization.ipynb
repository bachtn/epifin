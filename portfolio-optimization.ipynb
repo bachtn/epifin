{
 "cells": [
  {
   "cell_type": "markdown",
   "metadata": {},
   "source": [
    "# Objectif du projet\n",
    "* Concevoir un programme créant un portefeuille optimisant le ratio de Sharpe, sous certaines contraintes, comme le ferait un gestionnaire d’actif ou un robo-advisor.\n",
    "- L’univers d’actifs de base étant possiblement très grand (tous les actifs de notre base, hormis les portefeuilles), le nombre de possibilité de compositions différentes envisageables est alors infini, ce qui rend ce problème NP-complet.\n",
    "- Votre objectif est de __créer un unique portefeuille__ avec les contraintes suivantes :\n",
    "    - Le portefeuille doit être exactement __composé de 20 actifs.__\n",
    "    - __Chaque actif doit représenter un %NAV du portefeuille entre 1 et 10% à la date du 01/01/2012.__\n",
    "    - Le portefeuille __n’aura qu’une unique composition commençant le 01/01/2012.__\n",
    "- Si l’une de ces contraintes n’est pas respectée votre note sera nulle.\n",
    "- La valeur du ratio de Sharpe prise en compte dans la notation est celle de la période du __01/01/2012 au 30/06/2017__."
   ]
  },
  {
   "cell_type": "code",
   "execution_count": 33,
   "metadata": {},
   "outputs": [],
   "source": [
    "import requests\n",
    "import json\n",
    "import urllib3\n",
    "urllib3.disable_warnings()"
   ]
  },
  {
   "cell_type": "markdown",
   "metadata": {},
   "source": [
    "# Declare global variables"
   ]
  },
  {
   "cell_type": "code",
   "execution_count": 34,
   "metadata": {},
   "outputs": [],
   "source": [
    "nb_assets = 20\n",
    "start_date = '2012-01-01'\n",
    "end_date = '2017-06-30'\n",
    "\n",
    "user = 'epita_user_4'\n",
    "pwd = 'dolphin21903'\n",
    "server_url = 'https://dolphin.jump-technology.com:3389/api/v1'"
   ]
  },
  {
   "cell_type": "markdown",
   "metadata": {},
   "source": [
    "# Setup server"
   ]
  },
  {
   "cell_type": "code",
   "execution_count": 41,
   "metadata": {},
   "outputs": [],
   "source": [
    "session = requests.Session()\n",
    "session.auth = (user, pwd)"
   ]
  },
  {
   "cell_type": "markdown",
   "metadata": {},
   "source": [
    "# Get Asset Informations"
   ]
  },
  {
   "cell_type": "code",
   "execution_count": 46,
   "metadata": {
    "scrolled": false
   },
   "outputs": [
    {
     "data": {
      "text/plain": [
       "{'ASSET PRICE MODE': {'type': 'string', 'value': 'Par Défaut (configuration)'},\n",
       " 'ASSET_DATABASE_ID': {'type': 'int32', 'value': '1'},\n",
       " 'ASSET_OR_MARKET_PLACE_COUNTRY': {'type': 'string', 'value': 'USA'},\n",
       " 'ASSET_STATUS': {'type': 'asset_status', 'value': 'normal'},\n",
       " 'BLOOMBERG_CODE': {'type': 'string', 'value': 'EA UW Equity'},\n",
       " 'BLOOMBERG_ID': {'type': 'string', 'value': 'BBG000BP0WH2'},\n",
       " 'CITY_OR_ACRONYM_OR_NAME': {'type': 'string', 'value': 'NEW YORK'},\n",
       " 'CREATION_DATE': {'type': 'date', 'value': '2017-07-13'},\n",
       " 'CURRENCY': {'type': 'asset_currency', 'value': 'USD'},\n",
       " 'DAILY_PRICE_COUNT': {'type': 'int32', 'value': '2655'},\n",
       " 'FINAL_UNDERLYING': {'type': 'asset', 'value': '1'},\n",
       " 'FINAL_UNDERLYING_TYPE': {'type': 'asset_type', 'value': 'STOCK'},\n",
       " 'FIRST_QUOTE_DATE': {'type': 'date', 'value': '2007-01-03'},\n",
       " 'GLOBAL_TYPE': {'type': 'string', 'value': 'Actif'},\n",
       " 'INDEXED_RATE': {'type': 'double', 'value': '0'},\n",
       " 'ISIN_CODE': {'type': 'string', 'value': 'US2855121099'},\n",
       " 'IS_COMPOSITE': {'type': 'boolean', 'value': 'false'},\n",
       " 'IS_DEPOSITARY_QUOTES': {'type': 'boolean', 'value': 'false'},\n",
       " 'IS_EUROLAND': {'type': 'boolean', 'value': 'false'},\n",
       " 'IS_EURONEXT': {'type': 'boolean', 'value': 'false'},\n",
       " 'IS_PORTFOLIO': {'type': 'boolean', 'value': 'false'},\n",
       " 'IS_PUBLICLY_TRADED': {'type': 'boolean', 'value': 'true'},\n",
       " 'IS_REAL_ESTATE_FUND': {'type': 'boolean', 'value': 'false'},\n",
       " 'IS_STRUCTURED_PRODUCT': {'type': 'boolean', 'value': 'false'},\n",
       " 'LABEL': {'type': 'string', 'value': 'ELECTRONIC ARTS'},\n",
       " 'LAST_CLOSE_VALUE': {'type': 'currency_value', 'value': '111,58 USD'},\n",
       " 'LAST_CLOSE_VALUE_IN_CURR': {'type': 'currency_value', 'value': '111,58 USD'},\n",
       " 'LAST_GROSS_VALUE': {'type': 'currency_value', 'value': '111,58 USD'},\n",
       " 'LAST_QUOTES_UPDATE_DATE': {'type': 'date-time',\n",
       "  'value': '2017-07-20T17:11:08.000+02:00'},\n",
       " 'LAST_QUOTE_DATE': {'type': 'date', 'value': '2017-07-19'},\n",
       " 'LAST_QUOTE_SOURCE': {'type': 'string', 'value': 'Bloomberg'},\n",
       " 'LIQUIDITY_ALGO': {'type': 'liquidity_algorithm',\n",
       "  'value': 'PerVolLiquidityAlgorithm'},\n",
       " 'MARKET_CAP_CATEGORY': {'type': 'string', 'value': 'Non actif'},\n",
       " 'MARKET_PLACE': {'type': 'string', 'value': 'NEW YORK (XNGS)'},\n",
       " 'MARKET_PLACE_CITY': {'type': 'string', 'value': 'NEW YORK'},\n",
       " 'MARKET_PLACE_COUNTRY': {'type': 'string', 'value': 'USA'},\n",
       " 'MARKET_PLACE_CURRENCY': {'type': 'asset_currency', 'value': 'USD'},\n",
       " 'MARKET_PLACE_DESC': {'type': 'string',\n",
       "  'value': 'NASDAQ/NGS (GLOBAL SELECT MARKET)'},\n",
       " 'MARKET_PLACE_MIC': {'type': 'string', 'value': 'XNGS'},\n",
       " 'MARKET_PLACE_OR_ASSET_COUNTRY': {'type': 'string', 'value': 'USA'},\n",
       " 'MARKET_PLACE_TYPE': {'type': 'string', 'value': 'Marché réglementé'},\n",
       " 'MODIFICATION_DATE': {'type': 'date-time',\n",
       "  'value': '2017-07-20T17:11:07.000+02:00'},\n",
       " 'PAY_ACCOUNT_ON_DEFAULT': {'type': 'boolean', 'value': 'false'},\n",
       " 'PORT_ASSET_CONTENT_COUNT': {'type': 'int32', 'value': '0'},\n",
       " 'PORT_CONTENT_COUNT': {'type': 'int32', 'value': '0'},\n",
       " 'PORT_LINE_COUNT': {'type': 'int32', 'value': '0'},\n",
       " 'QUOTE_TYPE': {'type': 'asset_quote_type', 'value': 'value'},\n",
       " 'SUB_TYPE': {'type': 'asset_sub_type', 'value': 'ORDINARY_STOCK'},\n",
       " 'TYPE': {'type': 'asset_type', 'value': 'STOCK'},\n",
       " 'asset_custom_classification_Tab. de bord GSM': {'type': 'asset_type',\n",
       "  'value': 'STOCK'},\n",
       " 'asset_custom_classification_action': {'type': 'string', 'value': 'action'},\n",
       " 'quote_value_type': {'type': 'string', 'value': 'Défaut'}}"
      ]
     },
     "execution_count": 46,
     "metadata": {},
     "output_type": "execute_result"
    }
   ],
   "source": [
    "asset_idx = 1\n",
    "request = '/asset/' + str(asset_idx)\n",
    "url = server_url + request\n",
    "response = session.get(url, verify=False)\n",
    "data = json.loads(response.text)\n",
    "data"
   ]
  },
  {
   "cell_type": "code",
   "execution_count": null,
   "metadata": {},
   "outputs": [],
   "source": []
  },
  {
   "cell_type": "code",
   "execution_count": null,
   "metadata": {},
   "outputs": [],
   "source": []
  },
  {
   "cell_type": "code",
   "execution_count": null,
   "metadata": {},
   "outputs": [],
   "source": []
  }
 ],
 "metadata": {
  "kernelspec": {
   "display_name": "Python 3",
   "language": "python",
   "name": "python3"
  },
  "language_info": {
   "codemirror_mode": {
    "name": "ipython",
    "version": 3
   },
   "file_extension": ".py",
   "mimetype": "text/x-python",
   "name": "python",
   "nbconvert_exporter": "python",
   "pygments_lexer": "ipython3",
   "version": "3.6.0"
  }
 },
 "nbformat": 4,
 "nbformat_minor": 2
}
