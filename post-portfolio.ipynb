{
 "cells": [
  {
   "cell_type": "code",
   "execution_count": 91,
   "metadata": {},
   "outputs": [
    {
     "name": "stderr",
     "output_type": "stream",
     "text": [
      "/usr/lib/python3/dist-packages/urllib3/connectionpool.py:794: InsecureRequestWarning: Unverified HTTPS request is being made. Adding certificate verification is strongly advised. See: https://urllib3.readthedocs.org/en/latest/security.html\n",
      "  InsecureRequestWarning)\n"
     ]
    },
    {
     "data": {
      "text/plain": [
       "[{'ASSET_DATABASE_ID': {'type': 'int32', 'value': '570'},\n",
       "  'LABEL': {'type': 'string', 'value': 'PORTFOLIO_USER4'},\n",
       "  'TYPE': {'type': 'asset_type', 'value': 'PORTFOLIO'}}]"
      ]
     },
     "execution_count": 91,
     "metadata": {},
     "output_type": "execute_result"
    }
   ],
   "source": [
    "import requests\n",
    "import json\n",
    "import urllib3\n",
    "import array\n",
    "urllib3.disable_warnings()\n",
    "\n",
    "user = 'epita_user_4'\n",
    "pwd = 'dolphin21903'\n",
    "server_url = 'https://dolphin.jump-technology.com:3389/api/v1'\n",
    "session = requests.Session()\n",
    "session.auth = (user, pwd)\n",
    "\n",
    "request = '/asset?columns=ASSET_DATABASE_ID&columns=LABEL&columns=TYPE&TYPE=PORTFOLIO'\n",
    "url = server_url + request\n",
    "response = session.get(url, verify=False)\n",
    "data = json.loads(response.text)\n",
    "data"
   ]
  },
  {
   "cell_type": "code",
   "execution_count": 92,
   "metadata": {},
   "outputs": [
    {
     "name": "stderr",
     "output_type": "stream",
     "text": [
      "/usr/lib/python3/dist-packages/urllib3/connectionpool.py:794: InsecureRequestWarning: Unverified HTTPS request is being made. Adding certificate verification is strongly advised. See: https://urllib3.readthedocs.org/en/latest/security.html\n",
      "  InsecureRequestWarning)\n"
     ]
    },
    {
     "data": {
      "text/plain": [
       "{'currency': {'code': 'EUR'},\n",
       " 'label': 'PORTFOLIO_USER4',\n",
       " 'type': 'front',\n",
       " 'values': {'2017-06-30': [{'asset': {'asset': 100, 'quantity': 1.0}},\n",
       "   {'asset': {'asset': 101, 'quantity': 2.0}}]}}"
      ]
     },
     "execution_count": 92,
     "metadata": {},
     "output_type": "execute_result"
    }
   ],
   "source": [
    "request = '/portfolio/570/dyn_amount_compo'\n",
    "url = server_url + request\n",
    "response = session.get(url, verify=False)\n",
    "data = json.loads(response.text)\n",
    "data"
   ]
  },
  {
   "cell_type": "code",
   "execution_count": 93,
   "metadata": {
    "scrolled": true
   },
   "outputs": [
    {
     "name": "stderr",
     "output_type": "stream",
     "text": [
      "/usr/lib/python3/dist-packages/urllib3/connectionpool.py:794: InsecureRequestWarning: Unverified HTTPS request is being made. Adding certificate verification is strongly advised. See: https://urllib3.readthedocs.org/en/latest/security.html\n",
      "  InsecureRequestWarning)\n"
     ]
    },
    {
     "data": {
      "text/plain": [
       "{'currency': {'code': 'EUR'},\n",
       " 'label': 'PORTFOLIO_USER4',\n",
       " 'type': 'front',\n",
       " 'values': {'2017-06-30': [{'asset': {'asset': 100, 'quantity': 1.0}},\n",
       "   {'asset': {'asset': 101, 'quantity': 2.0}}]}}"
      ]
     },
     "execution_count": 93,
     "metadata": {},
     "output_type": "execute_result"
    }
   ],
   "source": [
    "request = '/portfolio/570/dyn_amount_compo'\n",
    "url = server_url + request\n",
    "response = session.get(url, verify=False)\n",
    "data = json.loads(response.text)\n",
    "data"
   ]
  },
  {
   "cell_type": "code",
   "execution_count": 94,
   "metadata": {},
   "outputs": [],
   "source": [
    "start_date = '2017-06-25'\n",
    "end_date = '2017-06-30'\n",
    "PORTFOLIO_VALUE = 10000000\n",
    "asset_db_ids = [1, 3, 4, 5, 6, 7, 8, 9, 10, 11, 12, 13, 14, 15, 16, 17, 18, 19, 20, 21] #Asset number 2 doesnt exist\n",
    "asset_weights = array.array('f', [0.05]) * 20\n",
    "\n",
    "def __get_asset_quantities(asset_db_ids, asset_weights, start_date, end_date):\n",
    "        assets_dict = []\n",
    "        for idx, asset_id in enumerate(asset_db_ids):\n",
    "            r = '/asset/{}/quote?start_date={}&end_date={}'.format(asset_id, start_date, end_date)\n",
    "            url = server_url + r\n",
    "            response = session.get(url, verify=False)\n",
    "            asset_infos = json.loads(response.text)\n",
    "            \n",
    "            #asset_infos = server.get('asset/{}/quote?start_date={}&end_date={}'.format(asset_id, start_date, end_date))\n",
    "            closure_value = asset_infos[-1]['close']\n",
    "            quantity = int(asset_weights[idx] * (PORTFOLIO_VALUE / closure_value))\n",
    "            assets_dict.append({'asset': {'asset': int(asset_id), 'quantity': int(quantity)}})\n",
    "        return assets_dict   \n"
   ]
  },
  {
   "cell_type": "code",
   "execution_count": 95,
   "metadata": {},
   "outputs": [
    {
     "name": "stderr",
     "output_type": "stream",
     "text": [
      "/usr/lib/python3/dist-packages/urllib3/connectionpool.py:794: InsecureRequestWarning: Unverified HTTPS request is being made. Adding certificate verification is strongly advised. See: https://urllib3.readthedocs.org/en/latest/security.html\n",
      "  InsecureRequestWarning)\n"
     ]
    },
    {
     "name": "stdout",
     "output_type": "stream",
     "text": [
      "[{'asset': {'quantity': 4729, 'asset': 1}}, {'asset': {'quantity': 2285, 'asset': 3}}, {'asset': {'quantity': 6230, 'asset': 4}}, {'asset': {'quantity': 488, 'asset': 5}}, {'asset': {'quantity': 6151, 'asset': 6}}, {'asset': {'quantity': 31806, 'asset': 7}}, {'asset': {'quantity': 11551, 'asset': 8}}, {'asset': {'quantity': 13542, 'asset': 9}}, {'asset': {'quantity': 5969, 'asset': 10}}, {'asset': {'quantity': 10613, 'asset': 11}}, {'asset': {'quantity': 4792, 'asset': 12}}, {'asset': {'quantity': 37835, 'asset': 13}}, {'asset': {'quantity': 52731, 'asset': 14}}, {'asset': {'quantity': 2145, 'asset': 15}}, {'asset': {'quantity': 3535, 'asset': 16}}, {'asset': {'quantity': 6282, 'asset': 17}}, {'asset': {'quantity': 4004, 'asset': 18}}, {'asset': {'quantity': 35997, 'asset': 19}}, {'asset': {'quantity': 7625, 'asset': 20}}, {'asset': {'quantity': 2253, 'asset': 21}}]\n"
     ]
    }
   ],
   "source": [
    "assets_dict = __get_asset_quantities(asset_db_ids, asset_weights, start_date, end_date)\n",
    "print (assets_dict)"
   ]
  },
  {
   "cell_type": "code",
   "execution_count": 96,
   "metadata": {},
   "outputs": [
    {
     "name": "stderr",
     "output_type": "stream",
     "text": [
      "/usr/lib/python3/dist-packages/urllib3/connectionpool.py:794: InsecureRequestWarning: Unverified HTTPS request is being made. Adding certificate verification is strongly advised. See: https://urllib3.readthedocs.org/en/latest/security.html\n",
      "  InsecureRequestWarning)\n"
     ]
    }
   ],
   "source": [
    "portfolio_dict = {\n",
    "            'currency': {'code': 'EUR'},\n",
    "            'label': 'PORTFOLIO_USER4',\n",
    "            'type': 'front',\n",
    "            'values': {start_date: assets_dict}}\n",
    "\n",
    "portfolio_obj = json.dumps(portfolio_dict)\n",
    "request = '/portfolio/570/dyn_amount_compo'\n",
    "url = server_url + request\n",
    "response = session.put(url, portfolio_obj, verify=False)"
   ]
  },
  {
   "cell_type": "code",
   "execution_count": 97,
   "metadata": {},
   "outputs": [
    {
     "name": "stderr",
     "output_type": "stream",
     "text": [
      "/usr/lib/python3/dist-packages/urllib3/connectionpool.py:794: InsecureRequestWarning: Unverified HTTPS request is being made. Adding certificate verification is strongly advised. See: https://urllib3.readthedocs.org/en/latest/security.html\n",
      "  InsecureRequestWarning)\n"
     ]
    },
    {
     "data": {
      "text/plain": [
       "{'currency': {'code': 'EUR'},\n",
       " 'label': 'PORTFOLIO_USER4',\n",
       " 'type': 'front',\n",
       " 'values': {'2017-06-25': [{'asset': {'asset': 1, 'quantity': 4729.0}},\n",
       "   {'asset': {'asset': 3, 'quantity': 2285.0}},\n",
       "   {'asset': {'asset': 4, 'quantity': 6230.0}},\n",
       "   {'asset': {'asset': 5, 'quantity': 488.0}},\n",
       "   {'asset': {'asset': 6, 'quantity': 6151.0}},\n",
       "   {'asset': {'asset': 7, 'quantity': 31806.0}},\n",
       "   {'asset': {'asset': 8, 'quantity': 11551.0}},\n",
       "   {'asset': {'asset': 9, 'quantity': 13542.0}},\n",
       "   {'asset': {'asset': 10, 'quantity': 5969.0}},\n",
       "   {'asset': {'asset': 11, 'quantity': 10613.0}},\n",
       "   {'asset': {'asset': 12, 'quantity': 4792.0}},\n",
       "   {'asset': {'asset': 13, 'quantity': 37835.0}},\n",
       "   {'asset': {'asset': 14, 'quantity': 52731.0}},\n",
       "   {'asset': {'asset': 15, 'quantity': 2145.0}},\n",
       "   {'asset': {'asset': 16, 'quantity': 3535.0}},\n",
       "   {'asset': {'asset': 17, 'quantity': 6282.0}},\n",
       "   {'asset': {'asset': 18, 'quantity': 4004.0}},\n",
       "   {'asset': {'asset': 19, 'quantity': 35997.0}},\n",
       "   {'asset': {'asset': 20, 'quantity': 7625.0}},\n",
       "   {'asset': {'asset': 21, 'quantity': 2253.0}}]}}"
      ]
     },
     "execution_count": 97,
     "metadata": {},
     "output_type": "execute_result"
    }
   ],
   "source": [
    "request = '/portfolio/570/dyn_amount_compo'\n",
    "url = server_url + request\n",
    "response = session.get(url, verify=False)\n",
    "data = json.loads(response.text)\n",
    "data"
   ]
  },
  {
   "cell_type": "code",
   "execution_count": null,
   "metadata": {},
   "outputs": [],
   "source": []
  }
 ],
 "metadata": {
  "kernelspec": {
   "display_name": "Python 3",
   "language": "python",
   "name": "python3"
  },
  "language_info": {
   "codemirror_mode": {
    "name": "ipython",
    "version": 3
   },
   "file_extension": ".py",
   "mimetype": "text/x-python",
   "name": "python",
   "nbconvert_exporter": "python",
   "pygments_lexer": "ipython3",
   "version": "3.5.2"
  }
 },
 "nbformat": 4,
 "nbformat_minor": 2
}
