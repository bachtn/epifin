{
 "cells": [
  {
   "cell_type": "code",
   "execution_count": 33,
   "metadata": {},
   "outputs": [
    {
     "name": "stderr",
     "output_type": "stream",
     "text": [
      "/usr/lib/python3/dist-packages/urllib3/connectionpool.py:794: InsecureRequestWarning: Unverified HTTPS request is being made. Adding certificate verification is strongly advised. See: https://urllib3.readthedocs.org/en/latest/security.html\n",
      "  InsecureRequestWarning)\n"
     ]
    },
    {
     "data": {
      "text/plain": [
       "[{'ASSET_DATABASE_ID': {'type': 'int32', 'value': '570'},\n",
       "  'LABEL': {'type': 'string', 'value': 'PORTFOLIO_USER4'},\n",
       "  'TYPE': {'type': 'asset_type', 'value': 'PORTFOLIO'}}]"
      ]
     },
     "execution_count": 33,
     "metadata": {},
     "output_type": "execute_result"
    }
   ],
   "source": [
    "import requests\n",
    "import json\n",
    "import urllib3\n",
    "import array\n",
    "urllib3.disable_warnings()\n",
    "\n",
    "user = 'epita_user_4'\n",
    "pwd = 'dolphin21903'\n",
    "server_url = 'https://dolphin.jump-technology.com:3389/api/v1'\n",
    "session = requests.Session()\n",
    "session.auth = (user, pwd)\n",
    "\n",
    "request = '/asset?columns=ASSET_DATABASE_ID&columns=LABEL&columns=TYPE&TYPE=PORTFOLIO'\n",
    "#request = '/portfolio/570/dyn_amount_compo'\n",
    "url = server_url + request\n",
    "response = session.get(url, verify=False)\n",
    "data = json.loads(response.text)\n",
    "data"
   ]
  },
  {
   "cell_type": "code",
   "execution_count": 34,
   "metadata": {},
   "outputs": [
    {
     "name": "stderr",
     "output_type": "stream",
     "text": [
      "/usr/lib/python3/dist-packages/urllib3/connectionpool.py:794: InsecureRequestWarning: Unverified HTTPS request is being made. Adding certificate verification is strongly advised. See: https://urllib3.readthedocs.org/en/latest/security.html\n",
      "  InsecureRequestWarning)\n"
     ]
    },
    {
     "data": {
      "text/plain": [
       "{'currency': {'code': 'EUR'},\n",
       " 'label': 'PORTFOLIO_USER4',\n",
       " 'type': 'front',\n",
       " 'values': {'2017-01-02': [{'asset': {'asset': 100, 'quantity': 1.0}},\n",
       "   {'asset': {'asset': 101, 'quantity': 2.0}}]}}"
      ]
     },
     "execution_count": 34,
     "metadata": {},
     "output_type": "execute_result"
    }
   ],
   "source": [
    "request = '/portfolio/570/dyn_amount_compo'\n",
    "url = server_url + request\n",
    "response = session.get(url, verify=False)\n",
    "data = json.loads(response.text)\n",
    "data"
   ]
  },
  {
   "cell_type": "code",
   "execution_count": 35,
   "metadata": {},
   "outputs": [],
   "source": [
    "potfolio_dict = {\n",
    "            'currency': {'code': 'EUR'},\n",
    "            'label': 'PORTFOLIO_USER4',\n",
    "            'type': 'front',\n",
    "            'values': {'2017-06-30': [{'asset': {'asset': 100, 'quantity': 1.0}},\n",
    "   {'asset': {'asset': 101, 'quantity': 2.0}}]}}"
   ]
  },
  {
   "cell_type": "code",
   "execution_count": 36,
   "metadata": {},
   "outputs": [
    {
     "name": "stderr",
     "output_type": "stream",
     "text": [
      "/usr/lib/python3/dist-packages/urllib3/connectionpool.py:794: InsecureRequestWarning: Unverified HTTPS request is being made. Adding certificate verification is strongly advised. See: https://urllib3.readthedocs.org/en/latest/security.html\n",
      "  InsecureRequestWarning)\n"
     ]
    },
    {
     "data": {
      "text/plain": [
       "{'currency': {'code': 'EUR'},\n",
       " 'label': 'PORTFOLIO_USER4',\n",
       " 'type': 'front',\n",
       " 'values': {'2017-01-02': [{'asset': {'asset': 100, 'quantity': 1.0}},\n",
       "   {'asset': {'asset': 101, 'quantity': 2.0}}]}}"
      ]
     },
     "execution_count": 36,
     "metadata": {},
     "output_type": "execute_result"
    }
   ],
   "source": [
    "portfolio_obj = json.dumps(potfolio_dict)\n",
    "request = '/portfolio/570/dyn_amount_compo'\n",
    "url = server_url + request\n",
    "response = session.put(url, portfolio_obj, verify=False)\n",
    "data"
   ]
  },
  {
   "cell_type": "code",
   "execution_count": 37,
   "metadata": {},
   "outputs": [
    {
     "name": "stderr",
     "output_type": "stream",
     "text": [
      "/usr/lib/python3/dist-packages/urllib3/connectionpool.py:794: InsecureRequestWarning: Unverified HTTPS request is being made. Adding certificate verification is strongly advised. See: https://urllib3.readthedocs.org/en/latest/security.html\n",
      "  InsecureRequestWarning)\n"
     ]
    },
    {
     "data": {
      "text/plain": [
       "{'currency': {'code': 'EUR'},\n",
       " 'label': 'PORTFOLIO_USER4',\n",
       " 'type': 'front',\n",
       " 'values': {'2017-06-30': [{'asset': {'asset': 100, 'quantity': 1.0}},\n",
       "   {'asset': {'asset': 101, 'quantity': 2.0}}]}}"
      ]
     },
     "execution_count": 37,
     "metadata": {},
     "output_type": "execute_result"
    }
   ],
   "source": [
    "request = '/portfolio/570/dyn_amount_compo'\n",
    "url = server_url + request\n",
    "response = session.get(url, verify=False)\n",
    "data = json.loads(response.text)\n",
    "data"
   ]
  },
  {
   "cell_type": "code",
   "execution_count": null,
   "metadata": {},
   "outputs": [],
   "source": []
  }
 ],
 "metadata": {
  "kernelspec": {
   "display_name": "Python 3",
   "language": "python",
   "name": "python3"
  },
  "language_info": {
   "codemirror_mode": {
    "name": "ipython",
    "version": 3
   },
   "file_extension": ".py",
   "mimetype": "text/x-python",
   "name": "python",
   "nbconvert_exporter": "python",
   "pygments_lexer": "ipython3",
   "version": "3.5.2"
  }
 },
 "nbformat": 4,
 "nbformat_minor": 2
}
