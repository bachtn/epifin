{
 "cells": [
  {
   "cell_type": "markdown",
   "metadata": {},
   "source": [
    "### TODO:\n",
    "- Test different values for weights when optimizing the Portfolio Composition.\n",
    "- Plot the portfolio sharpe for different methods (different weights, best sharpes, random ...)\n",
    "- Test optimization with the means of the assets instead of the global returns given by the API.\n",
    "    Note: Test with mean on daily returns before managing the none values.\n",
    "\n",
    "### Project imports"
   ]
  },
  {
   "cell_type": "code",
   "execution_count": 1,
   "metadata": {},
   "outputs": [],
   "source": [
    "import requests\n",
    "import json\n",
    "from pprint import pprint\n",
    "import numpy as np\n",
    "from datetime import date, timedelta\n",
    "import urllib3\n",
    "urllib3.disable_warnings()"
   ]
  },
  {
   "cell_type": "markdown",
   "metadata": {},
   "source": [
    "## Declare global variables"
   ]
  },
  {
   "cell_type": "code",
   "execution_count": 2,
   "metadata": {},
   "outputs": [],
   "source": [
    "START_DATE = '2012-01-02'\n",
    "END_DATE = '2017-06-30'\n",
    "user = 'epita_user_4'\n",
    "pwd = 'dolphin21903'\n",
    "RISK_FREE = 5e-4\n",
    "PORTFOLIO_VALUE = 10000000\n",
    "server_url = 'https://dolphin.jump-technology.com:3389/api/v1/'\n",
    "ratio_list = [15, 17, 18, 19, 20, 21, 22, 29]\n",
    "ratio_identifiers_dict = {\n",
    "    'beta' : 15, 'annual_return' : 17, 'volatility' : 18, 'correlation' : 19,\n",
    "    'sharpe' : 20, 'global_return' : 21,'value_at_risk' : 22, 'action_composition': 29\n",
    "}"
   ]
  },
  {
   "cell_type": "markdown",
   "metadata": {},
   "source": [
    "## Server setup"
   ]
  },
  {
   "cell_type": "code",
   "execution_count": 24,
   "metadata": {},
   "outputs": [],
   "source": [
    "class Server:\n",
    "    \"\"\"The server class will is used to interact with JUMP API\n",
    "    - Get json objects from the api\n",
    "        Eg: List of assets\n",
    "    - Post json objects to get informations\n",
    "        Eg: Asset Ratios (sharpe, volatility, ...)\n",
    "    - Put json objects to update informations\n",
    "        Eg: Portfolio composition\n",
    "    \"\"\"\n",
    "    def __init__(self, server_url, user, pwd):\n",
    "        \"\"\"Create a session and authentificate with the user login and password\"\"\"\n",
    "        self.server_url = server_url\n",
    "        self.user = user\n",
    "        self.pwd = pwd\n",
    "        self.session = requests.Session()\n",
    "        self.session.auth = (user, pwd)\n",
    "\n",
    "    def get(self, req_str):\n",
    "        data = None\n",
    "        try:\n",
    "            url = server_url + req_str\n",
    "            response = self.session.get(url, verify=False)\n",
    "            data = json.loads(response.text)\n",
    "        except Exception as e:\n",
    "            print('Exception in Server Get method : ', str(e))\n",
    "        return data\n",
    "    \n",
    "    def post(self, req_str, obj):\n",
    "        \"\"\"\n",
    "        req_str : the request string\n",
    "        obj : the object to post\n",
    "        \"\"\"\n",
    "        data = None\n",
    "        try:\n",
    "            url = server_url + req_str\n",
    "            response = self.session.post(url=url, json=obj, verify=False)\n",
    "            data = json.loads(response.text)\n",
    "        except Exception as e:\n",
    "            print('Exception : ', str(e))\n",
    "        return data\n",
    "    \n",
    "    def put(self, req_str, obj):\n",
    "        url = self.server_url + req_str\n",
    "        data = self.session.put(url, data=obj, verify=False)\n",
    "        return data\n",
    "    \n",
    "server = Server(server_url, user, pwd)"
   ]
  },
  {
   "cell_type": "markdown",
   "metadata": {},
   "source": [
    "## Collect needed data"
   ]
  },
  {
   "cell_type": "code",
   "execution_count": 29,
   "metadata": {},
   "outputs": [],
   "source": [
    "class ApiManager:\n",
    "    \"\"\"\n",
    "    --------- Data collection\n",
    "        \n",
    "    - Set up global constants (start_date, end_date, risk_free ...)\n",
    "    - Get all assets available in the API\n",
    "    - Get all asset ids and filter assets in euro\n",
    "    - Create a mapping between asset ids in the API database and the used indexs\n",
    "        Note: the used indexs = [0 .. len(assets)- 1]\n",
    "    - Get all the ratios available in the API\n",
    "        Note: In this case we have only: the sharpe, global return,\n",
    "        annual_return, volatility, and value_at_risk.\n",
    "        All the other ratios are not available.\n",
    "    - Get assets daily return and remplace the missed values with the mean\n",
    "        of the returns the day before and after.\n",
    "        Check the method `__none_values_manager` for more information.\n",
    "    - Get the assigned portfolio informations (label and id)\n",
    "    \n",
    "    --------- Portfolio manager\n",
    "    \n",
    "    - Create a portfolio from a list of asset_ids and asset weights\n",
    "    - Transform the asset weights to quantities\n",
    "    - Post a portfolio to the API.\n",
    "    \"\"\"\n",
    "    \n",
    "    def __init__(self, server, ratio_list, ratio_identifiers_dict, risk_free,\n",
    "                 start_date, end_date, portfolio_value):\n",
    "        self.server = server\n",
    "        self.RATIO_LIST = ratio_list\n",
    "        self.ratio_identifiers_dict = ratio_identifiers_dict\n",
    "        self.RISK_FREE = risk_free\n",
    "        self.START_DATE = start_date\n",
    "        self.END_DATE = end_date\n",
    "        self.PORTFOLIO_VALUE = portfolio_value\n",
    "        \n",
    "        ################################## ASSET IDS ###########################################\n",
    "        \n",
    "        self.assets, self.asset_ids = self.__get_assets()\n",
    "        self.ids_idx_db, self.ids_db_idx = self.__create_asset_id_mapping()\n",
    "        \n",
    "        ################################## RATIO LIST ###########################################\n",
    "        \n",
    "        self.assets_ratio_list = self.__get_assets_ratio_list(self.START_DATE, self.END_DATE) \n",
    "        ratio_ids = [ratio_identifiers_dict[x] for x in ['global_return', 'sharpe', 'volatility']]\n",
    "        self.global_returns, self.sharpes, self.volatilities = [x for x in self.__get_ratio(ratio_ids)]\n",
    "\n",
    "        ################################## DAILY RETURN ###########################################\n",
    "\n",
    "        self.assets_daily_returns = self.__get_assets_daily_returns(self.START_DATE, self.END_DATE)\n",
    "        \n",
    "        ################################## PORTFOLIO ###########################################\n",
    "        \n",
    "        self.portfolio = self.__get_portfolio()\n",
    "        \n",
    "        \n",
    "    ################################## ASSET IDS ###########################################\n",
    "\n",
    "    def __get_assets(self, only_euro=True):\n",
    "        #assets = server.get('asset?columns=ASSET_DATABASE_ID&columns=LABEL')\n",
    "        assets = self.server.get('asset')\n",
    "        asset_ids = []\n",
    "        if only_euro:\n",
    "            assets_eur = []\n",
    "            for asset in assets:\n",
    "                if asset['CURRENCY']['value'] == 'EUR':\n",
    "                    assets_eur.append(asset)\n",
    "                    asset_ids.append(asset[\"ASSET_DATABASE_ID\"][\"value\"])\n",
    "            assets = assets_eur\n",
    "        else: asset_ids = [asset[\"ASSET_DATABASE_ID\"][\"value\"] for asset in assets]\n",
    "        return assets, asset_ids\n",
    "    \n",
    "    def __create_asset_id_mapping(self):\n",
    "        \"\"\"Create the mapping between the assets api ids and the index\"\"\"\n",
    "        ids_idx_db = {}; ids_db_idx = {}\n",
    "        for idx, id_asset in enumerate(self.asset_ids):\n",
    "            ids_idx_db[idx] = id_asset\n",
    "            ids_db_idx[id_asset] = idx\n",
    "            \n",
    "        return ids_idx_db, ids_db_idx\n",
    "    \n",
    "    def get_db_ids(self, idx_ids):\n",
    "        return [self.ids_idx_db[idx_id] for idx_id in idx_ids]\n",
    "\n",
    "    def get_idx_ids(self, db_ids):\n",
    "        ids_vector = np.zeros((len(db_ids)))\n",
    "        for idx, db_id in enumerate(db_ids):\n",
    "            ids_vector[idx] = self.ids_db_idx[db_id]\n",
    "        return ids_vector\n",
    "    \n",
    "    ################################## RATIO LIST ###########################################\n",
    "\n",
    "    def __get_assets_ratio_list(self, start_date, end_date):\n",
    "        obj = {\n",
    "            'ratio':self.RATIO_LIST,\n",
    "            'asset':self.asset_ids,\n",
    "            'bench':None,\n",
    "            'startDate':start_date,\n",
    "            'endDate':end_date,\n",
    "            'frequency':None\n",
    "        }\n",
    "        return self.server.post('ratio/invoke', obj)\n",
    "\n",
    "    def __get_ratio(self, ratio_ids):\n",
    "        \"\"\"\n",
    "        Note: to know the id of the asset value in ith index, use the mapping dict\n",
    "        assets_id_dict_idx[i] -> asset_id\n",
    "        \"\"\"\n",
    "        ratio_values = []\n",
    "        for ratio_id in ratio_ids:\n",
    "            aux = []\n",
    "            for asset_id in self.asset_ids:\n",
    "                aux.append(self.__str_to_float(self.assets_ratio_list[asset_id][str(ratio_id)]['value']))\n",
    "            ratio_values.append(np.array(aux))\n",
    "        return ratio_values\n",
    "    \n",
    "    def __str_to_float(self, str_value):\n",
    "        return float(str_value.replace(',', '.'))\n",
    "    \n",
    "    ################################## DAILY RETURN ###########################################\n",
    "    \n",
    "    def __get_assets_daily_returns(self, start_date, end_date):\n",
    "        daily_returns = self.__get_daily_returns(start_date, end_date)\n",
    "        sorted_dates = self.__get_return_dates(daily_returns, start_date, end_date)\n",
    "        assets_returns = np.full((len(sorted_dates), len(self.asset_ids)), None)\n",
    "        for i, asset_id in enumerate(self.asset_ids):\n",
    "            returns = daily_returns[asset_id]\n",
    "            for r in returns:\n",
    "                date_idx = sorted_dates.index(r['date'])\n",
    "                assets_returns[date_idx,i] = r['return']\n",
    "        assets_returns = self.__none_values_manager(assets_returns, sorted_dates)\n",
    "        return assets_returns\n",
    "    \n",
    "    def __none_values_manager(self, assets_returns, sorted_dates):\n",
    "        # Remove none values and replace them with the mean of values before and after\n",
    "        none_idx = np.where(assets_returns == None)\n",
    "\n",
    "        for i, j in zip(none_idx[0], none_idx[1]):\n",
    "            if i in range(1, len(sorted_dates) - 1) and assets_returns[i-1,j] and assets_returns[i+1,j]:\n",
    "                assets_returns[i,j] = (assets_returns[i-1,j] + assets_returns[i+1,j]) / 2\n",
    "            elif i == 0 and assets_returns[i+1,j]:\n",
    "                assets_returns[i,j] = assets_returns[i+1,j]\n",
    "            elif i == len(sorted_dates) - 1 and assets_returns[i-1,j]:\n",
    "                assets_returns[i,j] = assets_returns[i-1,j]\n",
    "            else:\n",
    "                assets_returns[i,j] = 0\n",
    "        return assets_returns\n",
    "    \n",
    "    def __get_daily_returns(self, start_date, end_date):\n",
    "        assets_returns = {}\n",
    "        for asset_id in self.asset_ids:\n",
    "            returns_obj = self.server.get(\n",
    "                ('asset/{}/quote?start_date={}&end_date={}'.format(asset_id, start_date, end_date)))\n",
    "            assets_returns[asset_id] = [r for r in returns_obj]\n",
    "        return assets_returns\n",
    "    \n",
    "    def __get_return_dates(self, daily_returns, start_date, end_date):\n",
    "        \"\"\"Returns all the dates in the period sorted in the increasing order\"\"\"\n",
    "        dates = {start_date, end_date}\n",
    "        for asset_id in self.asset_ids:\n",
    "            returns = daily_returns[asset_id]\n",
    "            for r in returns:\n",
    "                dates.add(r['date'])\n",
    "        return sorted(dates, key=lambda d: tuple(map(int, d.split('-'))))\n",
    "\n",
    "\n",
    "    ################################## PORTFOLIO ###########################################\n",
    "    \n",
    "    def __get_portfolio(self):\n",
    "        request = 'asset?columns=ASSET_DATABASE_ID&columns=LABEL&columns=TYPE&TYPE=PORTFOLIO'\n",
    "        portfolio_infos = self.server.get(request)[0]\n",
    "        portfolio = {\n",
    "            'id' : portfolio_infos['ASSET_DATABASE_ID']['value'],\n",
    "            'label' : portfolio_infos['LABEL']['value']\n",
    "        }\n",
    "        return portfolio\n",
    "    \n",
    "    def post_portfolio(self, asset_db_ids, asset_weights, start_date, end_date):\n",
    "        assets_dict = self.__get_asset_quantities(\n",
    "            asset_db_ids, asset_weights, start_date, end_date)\n",
    "        potfolio_dict = {\n",
    "            'currency': {'code': 'EUR'},\n",
    "            'label': self.portfolio['label'],\n",
    "            'type': 'front',\n",
    "            'values': {start_date: assets_dict}}\n",
    "        portfolio_obj = json.dumps(potfolio_dict)\n",
    "        data = server.put(\"portfolio/{}/dyn_amount_compo\".format(self.portfolio['id']), portfolio_obj)\n",
    "        return data\n",
    "    \n",
    "    def __get_asset_quantities(self, asset_db_ids, asset_weights, start_date, end_date):\n",
    "        assets_dict = []\n",
    "        for idx, asset_id in enumerate(asset_db_ids):\n",
    "            asset_infos = server.get('asset/{}/quote?start_date={}&end_date={}'.format(\n",
    "                asset_id, start_date, end_date))\n",
    "            closure_value = asset_infos[-1]['close']\n",
    "            quantity = int(asset_weights[idx] * (self.PORTFOLIO_VALUE / closure_value))\n",
    "            assets_dict.append({'asset': {'asset': int(asset_id), 'quantity': int(quantity)}})\n",
    "        return assets_dict"
   ]
  },
  {
   "cell_type": "code",
   "execution_count": 30,
   "metadata": {},
   "outputs": [],
   "source": [
    "# Warniiiiiing  : Run once this cell (takes too much time to collect all data)\n",
    "api_manager = ApiManager(server, ratio_list, ratio_identifiers_dict,\n",
    "                         RISK_FREE, START_DATE, END_DATE, PORTFOLIO_VALUE)"
   ]
  },
  {
   "cell_type": "markdown",
   "metadata": {},
   "source": [
    "## Problem optimization"
   ]
  },
  {
   "cell_type": "code",
   "execution_count": 41,
   "metadata": {},
   "outputs": [],
   "source": [
    "from cvxopt import matrix, solvers\n",
    "\n",
    "class PotfolioOptimizer:\n",
    "    \"\"\"\n",
    "    ------- Data preparation (Prepare the data used by the optimizer)\n",
    "    \n",
    "    - Create the covariance matrix of a list of assets\n",
    "    - Create the global return vector of a list of assets\n",
    "    \n",
    "    ------- Optimizer\n",
    "    - Optimize the portfolio composition (list of used assets)\n",
    "    - Optimize the portfolio weights (fixed number of assets)\n",
    "    \n",
    "    ------- Portfolio Evaluation\n",
    "    - Compute the portfolio sharpe.\n",
    "    \"\"\"\n",
    "    \n",
    "    def __init__(self, api_manager):\n",
    "        self.api_manager = api_manager\n",
    "    \n",
    "    ################################### COVARIANCE MATRIX ################################\n",
    "    def __get_covariance_matrix(self, asset_idx_ids):\n",
    "        daily_returns = self.api_manager.assets_daily_returns\n",
    "        daily_return_target = np.zeros((len(asset_idx_ids), daily_returns.shape[0]))\n",
    "        for idx, asset_id in enumerate(asset_idx_ids):\n",
    "            daily_return_target[idx] = daily_returns[:,idx]\n",
    "        return np.cov(daily_return_target)\n",
    "\n",
    "    ################################## GLOBAL RETURNS ####################################\n",
    "    def __get_global_returns(self, asset_idx_ids):\n",
    "        ids_int = [int(x) for x in asset_idx_ids]\n",
    "        return self.api_manager.global_returns[ids_int]\n",
    "    \n",
    "    #################################### OPTIMIZER #######################################\n",
    "\n",
    "    def optimize_portfolio_weights(self, asset_idx_ids, weight_min=0.01, weight_max=0.1):\n",
    "        \"\"\"The portfolio composition is fixed (the assets contained in th portfolio),\n",
    "        the goal is to find the best weights for these assets that maximizes the Sharpe\n",
    "        Returns the optimized weights and the protfolio_sharpe\n",
    "        \"\"\"\n",
    "        global_returns = self.__get_global_returns(asset_idx_ids)\n",
    "        covariance_matrix = self.__get_covariance_matrix(asset_idx_ids)\n",
    "        weights = self.optimizer(global_returns, covariance_matrix, weight_min, weight_max)\n",
    "        portfolio_sharpe = self.evaluate_portfolio(weights, global_returns, covariance_matrix)\n",
    "        db_ids = self.api_manager.get_db_ids(asset_idx_ids)\n",
    "        return db_ids, weights, portfolio_sharpe\n",
    "\n",
    "    def optimize_portfolio_composition(self, asset_db_ids, min_weight=0.001, max_weight=0.05):\n",
    "        idx_ids = self.api_manager.get_idx_ids(asset_db_ids)\n",
    "        db_ids, weights, portfolio_sharpe = self.optimize_portfolio_weights(idx_ids, min_weight, max_weight)\n",
    "        idx_max_weights = weights.argsort()[-20:][::-1]\n",
    "        db_ids, weights, portfolio_sharpe = self.optimize_portfolio_weights(idx_max_weights)\n",
    "        return db_ids, weights, portfolio_sharpe\n",
    "    \n",
    "    def optimizer(self, global_returns, covariance_matrix, weight_min, weight_max, risk_tolerance=1):\n",
    "        nb = covariance_matrix.shape[0]\n",
    "        # Problem definition\n",
    "        P = matrix(2 * covariance_matrix, tc='d')\n",
    "        q = matrix(-risk_tolerance * global_returns, tc='d')\n",
    "        #G = matrix(-np.identity(nb), tc='d')\n",
    "        #h = matrix(np.zeros(nb))\n",
    "        A = matrix(np.ones((nb))).T\n",
    "        b = matrix(np.ones((1)))\n",
    "        G = matrix(np.vstack((-np.identity(nb), np.identity(nb))), tc='d')\n",
    "        h = matrix(np.hstack((-np.full((nb), weight_min), np.full((nb), weight_max))), tc='d')\n",
    "        solvers.options['show_progress'] = False\n",
    "        sol = solvers.qp(P, q, G, h, A, b)['x']\n",
    "        return np.asarray(sol).reshape((nb,))\n",
    "    \n",
    "    ############################### PORTFOLIO EVALUATION ##################################\n",
    "\n",
    "    def evaluate_portfolio(self, weights, global_returns, cov, is_annuel=True):\n",
    "        volatility_portfolio = np.sqrt(weights.T @ cov @ weights)\n",
    "        if is_annuel:\n",
    "            return_portfolio = (np.power(1 + global_returns.T @ weights, 365 / 1642) - 1)\n",
    "        else:\n",
    "            return_portfolio = global_returns.T @ weights\n",
    "        sharpe_portfolio = (return_portfolio - RISK_FREE) / volatility_portfolio\n",
    "        return sharpe_portfolio"
   ]
  },
  {
   "cell_type": "code",
   "execution_count": 42,
   "metadata": {},
   "outputs": [],
   "source": [
    "portfolio_optimizer = PotfolioOptimizer(api_manager)"
   ]
  },
  {
   "cell_type": "markdown",
   "metadata": {},
   "source": [
    "### Our solution: (Markowitz)"
   ]
  },
  {
   "cell_type": "code",
   "execution_count": 43,
   "metadata": {
    "scrolled": true
   },
   "outputs": [
    {
     "name": "stdout",
     "output_type": "stream",
     "text": [
      "sharpe =  44.8074359499\n"
     ]
    }
   ],
   "source": [
    "db_ids, weights, portfolio_sharpe = portfolio_optimizer.optimize_portfolio_composition(api_manager.asset_ids)\n",
    "print(\"sharpe = \", portfolio_sharpe)"
   ]
  },
  {
   "cell_type": "markdown",
   "metadata": {},
   "source": [
    "#### Post optimized portfolio to the API"
   ]
  },
  {
   "cell_type": "code",
   "execution_count": null,
   "metadata": {},
   "outputs": [],
   "source": [
    "api_manager.post_portfolio(db_ids, weights, START_DATE, END_DATE)"
   ]
  },
  {
   "cell_type": "markdown",
   "metadata": {},
   "source": [
    "#### Get Portfolio composition in the API"
   ]
  },
  {
   "cell_type": "code",
   "execution_count": 34,
   "metadata": {},
   "outputs": [
    {
     "data": {
      "text/plain": [
       "{'currency': {'code': 'EUR'},\n",
       " 'label': 'PORTFOLIO_USER4',\n",
       " 'type': 'front',\n",
       " 'values': {'2012-01-02': [{'asset': {'asset': 322, 'quantity': 8343.0}},\n",
       "   {'asset': {'asset': 67, 'quantity': 5961.0}},\n",
       "   {'asset': {'asset': 292, 'quantity': 623.0}},\n",
       "   {'asset': {'asset': 4, 'quantity': 1246.0}},\n",
       "   {'asset': {'asset': 69, 'quantity': 2311.0}},\n",
       "   {'asset': {'asset': 389, 'quantity': 97.0}},\n",
       "   {'asset': {'asset': 102, 'quantity': 335.0}},\n",
       "   {'asset': {'asset': 168, 'quantity': 1034.0}},\n",
       "   {'asset': {'asset': 139, 'quantity': 458.0}},\n",
       "   {'asset': {'asset': 110, 'quantity': 8764.0}},\n",
       "   {'asset': {'asset': 144, 'quantity': 7076.0}},\n",
       "   {'asset': {'asset': 146, 'quantity': 12462.0}},\n",
       "   {'asset': {'asset': 212, 'quantity': 4346.0}},\n",
       "   {'asset': {'asset': 437, 'quantity': 362.0}},\n",
       "   {'asset': {'asset': 54, 'quantity': 813.0}},\n",
       "   {'asset': {'asset': 118, 'quantity': 1632.0}},\n",
       "   {'asset': {'asset': 507, 'quantity': 3739.0}},\n",
       "   {'asset': {'asset': 29, 'quantity': 11052.0}},\n",
       "   {'asset': {'asset': 31, 'quantity': 13888.0}}]}}"
      ]
     },
     "execution_count": 34,
     "metadata": {},
     "output_type": "execute_result"
    }
   ],
   "source": [
    "server.get(\"portfolio/{}/dyn_amount_compo\".format(api_manager.portfolio['id']))"
   ]
  },
  {
   "cell_type": "markdown",
   "metadata": {},
   "source": [
    "### Assets with best Sharpe\n",
    "- __Weights = 0.05__"
   ]
  },
  {
   "cell_type": "code",
   "execution_count": 9,
   "metadata": {},
   "outputs": [
    {
     "name": "stdout",
     "output_type": "stream",
     "text": [
      "sharpe =  19.3160755231\n"
     ]
    }
   ],
   "source": [
    "best_sharpes_idx_id = np.argsort(api_manager.sharpes)[-20:][::-1]\n",
    "db_ids, weights, portfolio_sharpe = portfolio_optimizer.optimize_portfolio_weights(\n",
    "    best_sharpes_idx_id, weight_min=0.05, weight_max=0.05)\n",
    "print(\"sharpe = \", portfolio_sharpe)"
   ]
  },
  {
   "cell_type": "markdown",
   "metadata": {},
   "source": [
    "- __Min weight = 0.01, Max weight = 0.1__"
   ]
  },
  {
   "cell_type": "code",
   "execution_count": 10,
   "metadata": {},
   "outputs": [
    {
     "name": "stdout",
     "output_type": "stream",
     "text": [
      "sharpe =  29.1368363244\n"
     ]
    }
   ],
   "source": [
    "db_ids, weights, portfolio_sharpe = portfolio_optimizer.optimize_portfolio_weights(best_sharpes_idx_id)\n",
    "print(\"sharpe = \", portfolio_sharpe)"
   ]
  },
  {
   "cell_type": "markdown",
   "metadata": {},
   "source": [
    "### Random assets\n",
    "- __Weights = 0.05__"
   ]
  },
  {
   "cell_type": "code",
   "execution_count": 11,
   "metadata": {},
   "outputs": [
    {
     "name": "stdout",
     "output_type": "stream",
     "text": [
      "sharpe =  19.3160755231\n"
     ]
    }
   ],
   "source": [
    "import random\n",
    "perfs = []\n",
    "for i in range(200):\n",
    "    ids = random.sample(range(0, len(api_manager.asset_ids)), 20)\n",
    "    db_ids, weights, portfolio_sharpe = portfolio_optimizer.optimize_portfolio_weights(\n",
    "        best_sharpes_idx_id, weight_min=0.05, weight_max=0.05)\n",
    "    perfs.append(portfolio_sharpe)\n",
    "    \n",
    "perfs = np.array(perfs)\n",
    "print(\"sharpe = \", np.amax(perfs))"
   ]
  },
  {
   "cell_type": "markdown",
   "metadata": {},
   "source": [
    "- __Min weight = 0.01, Max weight = 0.1__"
   ]
  },
  {
   "cell_type": "code",
   "execution_count": 12,
   "metadata": {},
   "outputs": [
    {
     "name": "stdout",
     "output_type": "stream",
     "text": [
      "sharpe =  29.1368363244\n"
     ]
    }
   ],
   "source": [
    "import random\n",
    "perfs = []\n",
    "for i in range(200):\n",
    "    ids = random.sample(range(0, len(api_manager.asset_ids)), 20)\n",
    "    db_ids, weights, portfolio_sharpe = portfolio_optimizer.optimize_portfolio_weights(best_sharpes_idx_id)\n",
    "    perfs.append(portfolio_sharpe)\n",
    "    \n",
    "perfs = np.array(perfs)\n",
    "print(\"sharpe = \", np.amax(perfs))"
   ]
  },
  {
   "cell_type": "code",
   "execution_count": null,
   "metadata": {},
   "outputs": [],
   "source": []
  }
 ],
 "metadata": {
  "kernelspec": {
   "display_name": "Python 3",
   "language": "python",
   "name": "python3"
  },
  "language_info": {
   "codemirror_mode": {
    "name": "ipython",
    "version": 3
   },
   "file_extension": ".py",
   "mimetype": "text/x-python",
   "name": "python",
   "nbconvert_exporter": "python",
   "pygments_lexer": "ipython3",
   "version": "3.6.0"
  }
 },
 "nbformat": 4,
 "nbformat_minor": 2
}
